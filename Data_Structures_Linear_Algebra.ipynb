{
  "nbformat": 4,
  "nbformat_minor": 0,
  "metadata": {
    "colab": {
      "provenance": [],
      "collapsed_sections": [],
      "authorship_tag": "ABX9TyN6O/Fp/vzJNn8x+LAVBqTR",
      "include_colab_link": true
    },
    "kernelspec": {
      "name": "python3",
      "display_name": "Python 3"
    },
    "language_info": {
      "name": "python"
    }
  },
  "cells": [
    {
      "cell_type": "markdown",
      "metadata": {
        "id": "view-in-github",
        "colab_type": "text"
      },
      "source": [
        "<a href=\"https://colab.research.google.com/github/rouane-mouaad/Mathematical-Foundations-of-Machine-Learning/blob/main/Data_Structures_Linear_Algebra.ipynb\" target=\"_parent\"><img src=\"https://colab.research.google.com/assets/colab-badge.svg\" alt=\"Open In Colab\"/></a>"
      ]
    },
    {
      "cell_type": "markdown",
      "source": [
        "##Exercice 1\n",
        "- Thief  car speed: 150 Km/h -> start time: 0 sec\n",
        "- Police car speed: 180 Km/h -> start time: 5 sec\n",
        "### Solution:\n",
        "- Speeds and distance equations:\n",
        "- Thief:  d1 = 2.5t\n",
        "- Police: d2 = 3(t-5) \n",
        "- when d1 = d2   -----> 2.5t = 3(t-5)\n",
        "- t = 30min\n",
        "- d = 75km "
      ],
      "metadata": {
        "id": "PcB1bRUsY4s_"
      }
    },
    {
      "cell_type": "code",
      "source": [
        "thief_speed = 150/60;\n",
        "police_speed = 180/60;\n",
        "d_caught = 75;\n",
        "t_caught = 30;"
      ],
      "metadata": {
        "id": "L8Dst6HOaFxP"
      },
      "execution_count": 3,
      "outputs": []
    },
    {
      "cell_type": "markdown",
      "source": [
        "## Plot the problem"
      ],
      "metadata": {
        "id": "w16gt51hdrOn"
      }
    },
    {
      "cell_type": "code",
      "source": [
        "import numpy as np\n",
        "import matplotlib.pyplot as plt"
      ],
      "metadata": {
        "id": "WGtVxuEPd1m-"
      },
      "execution_count": null,
      "outputs": []
    },
    {
      "cell_type": "code",
      "source": [
        "t = np.linspace(0, 40, 1000) # start, finish, number of points"
      ],
      "metadata": {
        "id": "oX6kMRpReEWn"
      },
      "execution_count": null,
      "outputs": []
    },
    {
      "cell_type": "code",
      "source": [
        "thief_d = 2.5*t # distance traveled by the thief\n",
        "police_d = 3*(t-5) # distance traveled by the thief"
      ],
      "metadata": {
        "id": "frgA_dPfeXXJ"
      },
      "execution_count": null,
      "outputs": []
    },
    {
      "cell_type": "code",
      "source": [
        "fig , ax = plt.subplots()\n",
        "plt.grid()\n",
        "plt.title(\"Police Chase\")\n",
        "plt.xlabel(\"time (min)\")\n",
        "plt.ylabel(\"distance (Km)\")\n",
        "ax.set_xlim([0,40])\n",
        "ax.set_ylim([0, 100])\n",
        "ax.plot(t, thief_d, color='red')\n",
        "ax.plot(t, police_d, color='blue')\n",
        "plt.axhline(y = d_caught, color='green', linestyle='--')\n",
        "plt.axvline(x = t_caught, color='green', linestyle='--')\n"
      ],
      "metadata": {
        "colab": {
          "base_uri": "https://localhost:8080/",
          "height": 312
        },
        "id": "DUWrxzN6embT",
        "outputId": "c3c2a035-c629-498d-ef82-54b76bb3ab0b"
      },
      "execution_count": null,
      "outputs": [
        {
          "output_type": "execute_result",
          "data": {
            "text/plain": [
              "<matplotlib.lines.Line2D at 0x7f0f5c135890>"
            ]
          },
          "metadata": {},
          "execution_count": 39
        },
        {
          "output_type": "display_data",
          "data": {
            "text/plain": [
              "<Figure size 432x288 with 1 Axes>"
            ],
            "image/png": "[encoded data removed]"
          },
          "metadata": {
            "needs_background": "light"
          }
        }
      ]
    },
    {
      "cell_type": "code",
      "source": [
        "print(f\"distance: {d_caught}Km, time:{t_caught}sec\")"
      ],
      "metadata": {
        "id": "-omz-yPhetlQ",
        "colab": {
          "base_uri": "https://localhost:8080/"
        },
        "outputId": "f7d7b6c9-34e7-4b17-ebcc-2f83835ebfb4"
      },
      "execution_count": 7,
      "outputs": [
        {
          "output_type": "stream",
          "name": "stdout",
          "text": [
            "distance: 75Km, time:30sec\n"
          ]
        }
      ]
    },
    {
      "cell_type": "code",
      "source": [],
      "metadata": {
        "id": "b9qXwlRTiST8"
      },
      "execution_count": null,
      "outputs": []
    }
  ]
}